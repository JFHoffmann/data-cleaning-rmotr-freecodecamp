{
  "cells": [
    {
      "cell_type": "markdown",
      "metadata": {
        "id": "vfGprOWtj3Bi"
      },
      "source": [
        "![rmotr](https://i.imgur.com/jiPp4hj.png)\n",
        "<hr style=\"margin-bottom: 40px;\">\n",
        "\n",
        "<img src=\"https://user-images.githubusercontent.com/7065401/39117173-a433bf6a-46e6-11e8-8a40-b4d4d6422493.jpg\"\n",
        "    style=\"width:300px; float: right; margin: 0 40px 40px 40px;\"></img>\n",
        "\n",
        "# Missing Data"
      ]
    },
    {
      "cell_type": "markdown",
      "metadata": {
        "id": "cTF1y6Dpj3Bl"
      },
      "source": [
        "![separator2](https://i.imgur.com/4gX5WFr.png)\n",
        "\n",
        "## Hands on! "
      ]
    },
    {
      "cell_type": "code",
      "execution_count": 1,
      "metadata": {
        "id": "TRCpCQERj3Bl"
      },
      "outputs": [],
      "source": [
        "import numpy as np\n",
        "import pandas as pd"
      ]
    },
    {
      "cell_type": "markdown",
      "metadata": {
        "id": "7GI_XiQQj3Bm"
      },
      "source": [
        "What does \"missing data\" mean? What is a missing value? It depends on the origin of the data and the context it was generated. For example, for a survey, a _`Salary`_ field with an empty value, or a number 0, or an invalid value (a string for example) can be considered \"missing data\". These concepts are related to the values that Python will consider \"Falsy\":"
      ]
    },
    {
      "cell_type": "code",
      "execution_count": 2,
      "metadata": {
        "id": "z-BS2ZUjj3Bm"
      },
      "outputs": [],
      "source": [
        "falsy_values = (0, False, None, '', [], {})"
      ]
    },
    {
      "cell_type": "markdown",
      "metadata": {
        "id": "1kVIlhQYj3Bn"
      },
      "source": [
        "For Python, all the values above are considered \"falsy\":"
      ]
    },
    {
      "cell_type": "code",
      "execution_count": 3,
      "metadata": {
        "scrolled": true,
        "id": "AnqofUuhj3Bn",
        "outputId": "87b67e28-98da-4576-e48b-38fe942be204",
        "colab": {
          "base_uri": "https://localhost:8080/"
        }
      },
      "outputs": [
        {
          "output_type": "execute_result",
          "data": {
            "text/plain": [
              "False"
            ]
          },
          "metadata": {},
          "execution_count": 3
        }
      ],
      "source": [
        "any(falsy_values)"
      ]
    },
    {
      "cell_type": "markdown",
      "metadata": {
        "id": "MZVjLAyJj3Bn"
      },
      "source": [
        "Numpy has a special \"nullable\" value for numbers which is `np.nan`. It's _NaN_: \"Not a number\""
      ]
    },
    {
      "cell_type": "code",
      "execution_count": 4,
      "metadata": {
        "id": "8CmU-zZ-j3Bo",
        "outputId": "bdda9a20-860e-439c-a887-b9af00edc327",
        "colab": {
          "base_uri": "https://localhost:8080/"
        }
      },
      "outputs": [
        {
          "output_type": "execute_result",
          "data": {
            "text/plain": [
              "nan"
            ]
          },
          "metadata": {},
          "execution_count": 4
        }
      ],
      "source": [
        "np.nan"
      ]
    },
    {
      "cell_type": "markdown",
      "metadata": {
        "id": "c4HBgOHNj3Bo"
      },
      "source": [
        "The `np.nan` value is kind of a virus. Everything that it touches becomes `np.nan`:"
      ]
    },
    {
      "cell_type": "code",
      "execution_count": 5,
      "metadata": {
        "id": "Vo495Yunj3Bo",
        "outputId": "415d6693-5948-4f1c-df8d-a6d9389f3eee",
        "colab": {
          "base_uri": "https://localhost:8080/"
        }
      },
      "outputs": [
        {
          "output_type": "execute_result",
          "data": {
            "text/plain": [
              "nan"
            ]
          },
          "metadata": {},
          "execution_count": 5
        }
      ],
      "source": [
        "3 + np.nan"
      ]
    },
    {
      "cell_type": "code",
      "execution_count": 6,
      "metadata": {
        "id": "bX_VZWMYj3Bo"
      },
      "outputs": [],
      "source": [
        "a = np.array([1, 2, 3, np.nan, np.nan, 4])"
      ]
    },
    {
      "cell_type": "code",
      "execution_count": 7,
      "metadata": {
        "id": "nhTzzmdmj3Bp",
        "outputId": "56e1173a-52d2-467e-a562-b6c6644aa890",
        "colab": {
          "base_uri": "https://localhost:8080/"
        }
      },
      "outputs": [
        {
          "output_type": "execute_result",
          "data": {
            "text/plain": [
              "nan"
            ]
          },
          "metadata": {},
          "execution_count": 7
        }
      ],
      "source": [
        "a.sum()"
      ]
    },
    {
      "cell_type": "code",
      "execution_count": 8,
      "metadata": {
        "id": "saptBrqjj3Bp",
        "outputId": "9ef2a80e-af4d-416b-b4b7-aed8f6e23143",
        "colab": {
          "base_uri": "https://localhost:8080/"
        }
      },
      "outputs": [
        {
          "output_type": "execute_result",
          "data": {
            "text/plain": [
              "nan"
            ]
          },
          "metadata": {},
          "execution_count": 8
        }
      ],
      "source": [
        "a.mean()"
      ]
    },
    {
      "cell_type": "markdown",
      "metadata": {
        "id": "C2pzdGLZj3Bp"
      },
      "source": [
        "This is better than regular `None` values, which in the previous examples would have raised an exception:"
      ]
    },
    {
      "cell_type": "code",
      "execution_count": 9,
      "metadata": {
        "id": "GRey9v9ij3Bp",
        "outputId": "ad7c6e32-4d89-4c14-dcdf-afc73147294e",
        "colab": {
          "base_uri": "https://localhost:8080/",
          "height": 172
        }
      },
      "outputs": [
        {
          "output_type": "error",
          "ename": "TypeError",
          "evalue": "ignored",
          "traceback": [
            "\u001b[0;31m---------------------------------------------------------------------------\u001b[0m",
            "\u001b[0;31mTypeError\u001b[0m                                 Traceback (most recent call last)",
            "\u001b[0;32m<ipython-input-9-8e4e7b6bbb3a>\u001b[0m in \u001b[0;36m<module>\u001b[0;34m()\u001b[0m\n\u001b[0;32m----> 1\u001b[0;31m \u001b[0;36m3\u001b[0m \u001b[0;34m+\u001b[0m \u001b[0;32mNone\u001b[0m\u001b[0;34m\u001b[0m\u001b[0;34m\u001b[0m\u001b[0m\n\u001b[0m",
            "\u001b[0;31mTypeError\u001b[0m: unsupported operand type(s) for +: 'int' and 'NoneType'"
          ]
        }
      ],
      "source": [
        "3 + None"
      ]
    },
    {
      "cell_type": "markdown",
      "metadata": {
        "id": "UeSU_STrj3Bp"
      },
      "source": [
        "For a numeric array, the `None` value is replaced by `np.nan`:"
      ]
    },
    {
      "cell_type": "code",
      "execution_count": 10,
      "metadata": {
        "id": "C3n09TYpj3Bq"
      },
      "outputs": [],
      "source": [
        "a = np.array([1, 2, 3, np.nan, None, 4], dtype='float')"
      ]
    },
    {
      "cell_type": "code",
      "execution_count": 11,
      "metadata": {
        "id": "6gcqX8xHj3Bq",
        "outputId": "9def64d2-b1ff-4b8e-97c6-0ba018d2670d",
        "colab": {
          "base_uri": "https://localhost:8080/"
        }
      },
      "outputs": [
        {
          "output_type": "execute_result",
          "data": {
            "text/plain": [
              "array([ 1.,  2.,  3., nan, nan,  4.])"
            ]
          },
          "metadata": {},
          "execution_count": 11
        }
      ],
      "source": [
        "a"
      ]
    },
    {
      "cell_type": "markdown",
      "metadata": {
        "id": "dOia2VJRj3Bq"
      },
      "source": [
        "As we said, `np.nan` is like a virus. If you have any `nan` value in an array and you try to perform an operation on it, you'll get unexpected results:"
      ]
    },
    {
      "cell_type": "code",
      "execution_count": 12,
      "metadata": {
        "id": "D6ZfB_Dsj3Bq"
      },
      "outputs": [],
      "source": [
        "a = np.array([1, 2, 3, np.nan, np.nan, 4])"
      ]
    },
    {
      "cell_type": "code",
      "execution_count": 13,
      "metadata": {
        "id": "PIi7n5-7j3Bq",
        "outputId": "4b0ae0c9-ac28-4a8c-f7b9-c6a98cf5e81c",
        "colab": {
          "base_uri": "https://localhost:8080/"
        }
      },
      "outputs": [
        {
          "output_type": "execute_result",
          "data": {
            "text/plain": [
              "nan"
            ]
          },
          "metadata": {},
          "execution_count": 13
        }
      ],
      "source": [
        "a.mean()"
      ]
    },
    {
      "cell_type": "code",
      "execution_count": 14,
      "metadata": {
        "id": "Me8tlM3kj3Bq",
        "outputId": "5ec99ae3-925d-4dd2-e1df-99dfcd3bce5a",
        "colab": {
          "base_uri": "https://localhost:8080/"
        }
      },
      "outputs": [
        {
          "output_type": "execute_result",
          "data": {
            "text/plain": [
              "nan"
            ]
          },
          "metadata": {},
          "execution_count": 14
        }
      ],
      "source": [
        "a.sum()"
      ]
    },
    {
      "cell_type": "markdown",
      "metadata": {
        "id": "5Ne5N6xHj3Bq"
      },
      "source": [
        "Numpy also supports an \"Infinite\" type:"
      ]
    },
    {
      "cell_type": "code",
      "execution_count": 15,
      "metadata": {
        "id": "3LxHEq15j3Br",
        "outputId": "18a15102-2769-48d4-a8c8-c26838571ef2",
        "colab": {
          "base_uri": "https://localhost:8080/"
        }
      },
      "outputs": [
        {
          "output_type": "execute_result",
          "data": {
            "text/plain": [
              "inf"
            ]
          },
          "metadata": {},
          "execution_count": 15
        }
      ],
      "source": [
        "np.inf"
      ]
    },
    {
      "cell_type": "markdown",
      "metadata": {
        "id": "dYTQ7I-dj3Br"
      },
      "source": [
        "Which also behaves as a virus:"
      ]
    },
    {
      "cell_type": "code",
      "execution_count": 16,
      "metadata": {
        "id": "zh17Pj64j3Br",
        "outputId": "7c6e8b30-342e-4307-b0ce-250d1633f135",
        "colab": {
          "base_uri": "https://localhost:8080/"
        }
      },
      "outputs": [
        {
          "output_type": "execute_result",
          "data": {
            "text/plain": [
              "inf"
            ]
          },
          "metadata": {},
          "execution_count": 16
        }
      ],
      "source": [
        "3 + np.inf"
      ]
    },
    {
      "cell_type": "code",
      "execution_count": 17,
      "metadata": {
        "id": "dZ8HzkWij3Br",
        "outputId": "2db225bb-b6c1-410a-b3fe-3379c05e9e3a",
        "colab": {
          "base_uri": "https://localhost:8080/"
        }
      },
      "outputs": [
        {
          "output_type": "execute_result",
          "data": {
            "text/plain": [
              "inf"
            ]
          },
          "metadata": {},
          "execution_count": 17
        }
      ],
      "source": [
        "np.inf / 3"
      ]
    },
    {
      "cell_type": "code",
      "execution_count": 18,
      "metadata": {
        "id": "Y-4npllxj3Br",
        "outputId": "044432c3-4375-46a6-e2bc-818d7762cf14",
        "colab": {
          "base_uri": "https://localhost:8080/"
        }
      },
      "outputs": [
        {
          "output_type": "execute_result",
          "data": {
            "text/plain": [
              "nan"
            ]
          },
          "metadata": {},
          "execution_count": 18
        }
      ],
      "source": [
        "np.inf / np.inf"
      ]
    },
    {
      "cell_type": "code",
      "execution_count": 19,
      "metadata": {
        "id": "sQW4G8agj3Br",
        "outputId": "c0feb2a1-055b-4bb5-f0c3-86ea1891a533",
        "colab": {
          "base_uri": "https://localhost:8080/"
        }
      },
      "outputs": [
        {
          "output_type": "stream",
          "name": "stderr",
          "text": [
            "/usr/local/lib/python3.7/dist-packages/ipykernel_launcher.py:1: DeprecationWarning: `np.float` is a deprecated alias for the builtin `float`. To silence this warning, use `float` by itself. Doing this will not modify any behavior and is safe. If you specifically wanted the numpy scalar type, use `np.float64` here.\n",
            "Deprecated in NumPy 1.20; for more details and guidance: https://numpy.org/devdocs/release/1.20.0-notes.html#deprecations\n",
            "  \"\"\"Entry point for launching an IPython kernel.\n"
          ]
        }
      ],
      "source": [
        "b = np.array([1, 2, 3, np.inf, np.nan, 4], dtype=np.float)"
      ]
    },
    {
      "cell_type": "code",
      "execution_count": 20,
      "metadata": {
        "id": "I1aLB_JMj3Br",
        "outputId": "091bf57d-f69a-4aad-939a-205e57a72fe8",
        "colab": {
          "base_uri": "https://localhost:8080/"
        }
      },
      "outputs": [
        {
          "output_type": "execute_result",
          "data": {
            "text/plain": [
              "nan"
            ]
          },
          "metadata": {},
          "execution_count": 20
        }
      ],
      "source": [
        "b.sum()"
      ]
    },
    {
      "cell_type": "markdown",
      "metadata": {
        "id": "Gbpjk_J2j3Br"
      },
      "source": [
        "![separator1](https://i.imgur.com/ZUWYTii.png)\n",
        "\n",
        "### Checking for `nan` or `inf`\n",
        "\n",
        "There are two functions: `np.isnan` and `np.isinf` that will perform the desired checks:"
      ]
    },
    {
      "cell_type": "code",
      "execution_count": 21,
      "metadata": {
        "id": "9P12spW0j3Br",
        "outputId": "80cbe9e3-e7c7-42b2-a0f6-c7959d4bba55",
        "colab": {
          "base_uri": "https://localhost:8080/"
        }
      },
      "outputs": [
        {
          "output_type": "execute_result",
          "data": {
            "text/plain": [
              "True"
            ]
          },
          "metadata": {},
          "execution_count": 21
        }
      ],
      "source": [
        "np.isnan(np.nan)"
      ]
    },
    {
      "cell_type": "code",
      "execution_count": 27,
      "metadata": {
        "id": "q02mpptOj3Br",
        "outputId": "410c4fdf-e930-4d8e-e582-0b4a36ee7161",
        "colab": {
          "base_uri": "https://localhost:8080/"
        }
      },
      "outputs": [
        {
          "output_type": "execute_result",
          "data": {
            "text/plain": [
              "True"
            ]
          },
          "metadata": {},
          "execution_count": 27
        }
      ],
      "source": [
        "np.isinf(np.inf)"
      ]
    },
    {
      "cell_type": "markdown",
      "metadata": {
        "id": "nNVuZpC-j3Bs"
      },
      "source": [
        "And the joint operation can be performed with `np.isfinite`."
      ]
    },
    {
      "cell_type": "code",
      "execution_count": 28,
      "metadata": {
        "id": "UGWX-ic2j3Bs",
        "outputId": "7e459b01-5659-41c0-bfb5-98c752f750c5",
        "colab": {
          "base_uri": "https://localhost:8080/"
        }
      },
      "outputs": [
        {
          "output_type": "execute_result",
          "data": {
            "text/plain": [
              "(False, False)"
            ]
          },
          "metadata": {},
          "execution_count": 28
        }
      ],
      "source": [
        "np.isfinite(np.nan), np.isfinite(np.inf)"
      ]
    },
    {
      "cell_type": "markdown",
      "metadata": {
        "id": "l5l11m4Fj3Bs"
      },
      "source": [
        "`np.isnan` and `np.isinf` also take arrays as inputs, and return boolean arrays as results:"
      ]
    },
    {
      "cell_type": "code",
      "execution_count": 29,
      "metadata": {
        "id": "kpkYoZZ7j3Bs",
        "outputId": "d142fe53-0997-4f4b-f9f0-f54e6d0879ab",
        "colab": {
          "base_uri": "https://localhost:8080/"
        }
      },
      "outputs": [
        {
          "output_type": "execute_result",
          "data": {
            "text/plain": [
              "array([False, False, False,  True, False, False])"
            ]
          },
          "metadata": {},
          "execution_count": 29
        }
      ],
      "source": [
        "np.isnan(np.array([1, 2, 3, np.nan, np.inf, 4]))"
      ]
    },
    {
      "cell_type": "code",
      "execution_count": 30,
      "metadata": {
        "id": "-nSrZvwBj3Bs",
        "outputId": "73836d84-fa19-4b48-ae84-e0ac08e73509",
        "colab": {
          "base_uri": "https://localhost:8080/"
        }
      },
      "outputs": [
        {
          "output_type": "execute_result",
          "data": {
            "text/plain": [
              "array([False, False, False, False,  True, False])"
            ]
          },
          "metadata": {},
          "execution_count": 30
        }
      ],
      "source": [
        "np.isinf(np.array([1, 2, 3, np.nan, np.inf, 4]))"
      ]
    },
    {
      "cell_type": "code",
      "execution_count": 31,
      "metadata": {
        "scrolled": true,
        "id": "cdZB_n2Dj3Bs",
        "outputId": "d1886cd6-f46e-465d-f1e2-4e9b1ceae2bf",
        "colab": {
          "base_uri": "https://localhost:8080/"
        }
      },
      "outputs": [
        {
          "output_type": "execute_result",
          "data": {
            "text/plain": [
              "array([ True,  True,  True, False, False,  True])"
            ]
          },
          "metadata": {},
          "execution_count": 31
        }
      ],
      "source": [
        "np.isfinite(np.array([1, 2, 3, np.nan, np.inf, 4]))"
      ]
    },
    {
      "cell_type": "markdown",
      "metadata": {
        "id": "dSqpWGFCj3Bs"
      },
      "source": [
        "_Note: It's not so common to find infinite values. From now on, we'll keep working with only `np.nan`_"
      ]
    },
    {
      "cell_type": "markdown",
      "metadata": {
        "id": "kkdsAo3Yj3Bs"
      },
      "source": [
        "![separator1](https://i.imgur.com/ZUWYTii.png)\n",
        "\n",
        "### Filtering them out\n",
        "\n",
        "Whenever you're trying to perform an operation with a Numpy array and you know there might be missing values, you'll need to filter them out before proceeding, to avoid `nan` propagation. We'll use a combination of the previous `np.isnan` + boolean arrays for this purpose:"
      ]
    },
    {
      "cell_type": "code",
      "execution_count": 32,
      "metadata": {
        "id": "f2gT9MbAj3Bs"
      },
      "outputs": [],
      "source": [
        "a = np.array([1, 2, 3, np.nan, np.nan, 4])"
      ]
    },
    {
      "cell_type": "code",
      "execution_count": 33,
      "metadata": {
        "id": "n-fehEvFj3Bs",
        "outputId": "919379f9-b557-4a45-d2b1-12e22c4f0903",
        "colab": {
          "base_uri": "https://localhost:8080/"
        }
      },
      "outputs": [
        {
          "output_type": "execute_result",
          "data": {
            "text/plain": [
              "array([1., 2., 3., 4.])"
            ]
          },
          "metadata": {},
          "execution_count": 33
        }
      ],
      "source": [
        "a[~np.isnan(a)]"
      ]
    },
    {
      "cell_type": "markdown",
      "metadata": {
        "id": "tbHrrMqij3Bt"
      },
      "source": [
        "Which is equivalent to:"
      ]
    },
    {
      "cell_type": "code",
      "execution_count": 34,
      "metadata": {
        "id": "QV-AN7DRj3Bt",
        "outputId": "7b2c68e9-bd7b-4dcb-f03d-20665730ef63",
        "colab": {
          "base_uri": "https://localhost:8080/"
        }
      },
      "outputs": [
        {
          "output_type": "execute_result",
          "data": {
            "text/plain": [
              "array([1., 2., 3., 4.])"
            ]
          },
          "metadata": {},
          "execution_count": 34
        }
      ],
      "source": [
        "a[np.isfinite(a)]"
      ]
    },
    {
      "cell_type": "markdown",
      "metadata": {
        "id": "NcG7DzAXj3Bt"
      },
      "source": [
        "And with that result, all the operation can be now performed:"
      ]
    },
    {
      "cell_type": "code",
      "execution_count": 35,
      "metadata": {
        "id": "cCbWqbKVj3Bu",
        "outputId": "f6b9c2b2-f2df-4c4e-c8e4-f2af35183a68",
        "colab": {
          "base_uri": "https://localhost:8080/"
        }
      },
      "outputs": [
        {
          "output_type": "execute_result",
          "data": {
            "text/plain": [
              "10.0"
            ]
          },
          "metadata": {},
          "execution_count": 35
        }
      ],
      "source": [
        "a[np.isfinite(a)].sum()"
      ]
    },
    {
      "cell_type": "code",
      "execution_count": 36,
      "metadata": {
        "scrolled": true,
        "id": "T7OogC1vj3Bu",
        "outputId": "8253109f-8590-4650-aa52-6b191fb4f609",
        "colab": {
          "base_uri": "https://localhost:8080/"
        }
      },
      "outputs": [
        {
          "output_type": "execute_result",
          "data": {
            "text/plain": [
              "2.5"
            ]
          },
          "metadata": {},
          "execution_count": 36
        }
      ],
      "source": [
        "a[np.isfinite(a)].mean()"
      ]
    },
    {
      "cell_type": "markdown",
      "metadata": {
        "id": "kDFVHJYYj3Bu"
      },
      "source": [
        "![separator2](https://i.imgur.com/4gX5WFr.png)"
      ]
    }
  ],
  "metadata": {
    "kernelspec": {
      "display_name": "Python 3",
      "language": "python",
      "name": "python3"
    },
    "language_info": {
      "codemirror_mode": {
        "name": "ipython",
        "version": 3
      },
      "file_extension": ".py",
      "mimetype": "text/x-python",
      "name": "python",
      "nbconvert_exporter": "python",
      "pygments_lexer": "ipython3",
      "version": "3.8.1"
    },
    "colab": {
      "name": "1 - Missing Data.ipynb",
      "provenance": []
    }
  },
  "nbformat": 4,
  "nbformat_minor": 0
}